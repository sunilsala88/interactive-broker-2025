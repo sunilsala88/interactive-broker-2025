{
 "cells": [
  {
   "cell_type": "markdown",
   "metadata": {},
   "source": [
    "# contract"
   ]
  },
  {
   "cell_type": "code",
   "execution_count": null,
   "metadata": {},
   "outputs": [
    {
     "data": {
      "text/plain": [
       "<IB connected to 127.0.0.1:7497 clientId=2>"
      ]
     },
     "execution_count": 2,
     "metadata": {},
     "output_type": "execute_result"
    },
    {
     "name": "stderr",
     "output_type": "stream",
     "text": [
      "Error 321, reqId 3: Error validating request.-'bI' : cause - Unknown security type : STK, contract: Contract(symbol='MSFT', exchange='SMART', currency='USD', secIdType='STK')\n",
      "Error 200, reqId 8: No security definition has been found for the request, contract: Contract(secType='STK', symbol='TSLA1', exchange='SMART', currency='USD')\n",
      "Error 200, reqId 11: No security definition has been found for the request, contract: Contract(secType='STK', symbol='KOTAKBANKs', exchange='NSE', currency='INR')\n",
      "Error 200, reqId 12: No security definition has been found for the request, contract: Contract(secType='IND', symbol='SPY', exchange='SMART', currency='USD')\n",
      "Error 200, reqId 19: No security definition has been found for the request, contract: Stock(symbol='GOOG', exchange='SMART', currency='INR')\n",
      "Error 200, reqId 20: No security definition has been found for the request, contract: Stock(symbol='TSLA', exchange='SMART', currency='INR')\n",
      "Error 200, reqId 21: No security definition has been found for the request, contract: Stock(symbol='TSLA', exchange='SMART', currency='INR')\n",
      "Error 200, reqId 25: No security definition has been found for the request, contract: Forex(symbol='EURUSD', exchange='IDEALPRO')\n",
      "Error 321, reqId 29: Error validating request.-'bI' : cause - Please enter a valid security type, contract: Contract(symbol='EUR', exchange='IDEALPRO', currency='USD')\n",
      "Error 200, reqId 31: No security definition has been found for the request, contract: Crypto(symbol='ETHUSD')\n",
      "Error 200, reqId 39: No security definition has been found for the request, contract: Future(symbol='ES', lastTradeDateOrContractMonth='20250321', exchange='SMART', currency='USD')\n",
      "Peer closed connection.\n"
     ]
    }
   ],
   "source": [
    "from ib_async import *\n",
    "util.startLoop()  # uncomment this line when in a notebook\n",
    "\n",
    "ib = IB()\n",
    "ib.connect('127.0.0.1', 7497, clientId=2)"
   ]
  },
  {
   "cell_type": "markdown",
   "metadata": {},
   "source": [
    "# official python api"
   ]
  },
  {
   "cell_type": "code",
   "execution_count": 25,
   "metadata": {},
   "outputs": [
    {
     "data": {
      "text/plain": [
       "Contract(secType='IND', symbol='BANKNIFTY', exchange='NSE', currency='INR')"
      ]
     },
     "execution_count": 25,
     "metadata": {},
     "output_type": "execute_result"
    }
   ],
   "source": [
    "msft=Contract(symbol='BANKNIFTY',currency='INR',exchange='NSE',secType='IND')\n",
    "msft"
   ]
  },
  {
   "cell_type": "code",
   "execution_count": 26,
   "metadata": {},
   "outputs": [
    {
     "name": "stdout",
     "output_type": "stream",
     "text": [
      "[Contract(secType='IND', conId=56994300, symbol='BANKNIFTY', exchange='NSE', currency='INR', localSymbol='BANKNIFTY')]\n"
     ]
    },
    {
     "data": {
      "text/plain": [
       "Contract(secType='IND', conId=56994300, symbol='BANKNIFTY', exchange='NSE', currency='INR', localSymbol='BANKNIFTY')"
      ]
     },
     "execution_count": 26,
     "metadata": {},
     "output_type": "execute_result"
    }
   ],
   "source": [
    "a=ib.qualifyContracts(msft)\n",
    "print(a)\n",
    "b=a[0]\n",
    "b"
   ]
  },
  {
   "cell_type": "code",
   "execution_count": 29,
   "metadata": {},
   "outputs": [
    {
     "data": {
      "text/plain": [
       "Contract(secType='IND', conId=56994300, symbol='BANKNIFTY', exchange='NSE', currency='INR', localSymbol='BANKNIFTY')"
      ]
     },
     "execution_count": 29,
     "metadata": {},
     "output_type": "execute_result"
    }
   ],
   "source": [
    "ib.qualifyContracts(Contract(conId=56994300))[0]"
   ]
  },
  {
   "cell_type": "markdown",
   "metadata": {},
   "source": [
    "IB asynsc functions"
   ]
  },
  {
   "cell_type": "code",
   "execution_count": null,
   "metadata": {},
   "outputs": [],
   "source": []
  },
  {
   "cell_type": "markdown",
   "metadata": {},
   "source": [
    "# stock contract"
   ]
  },
  {
   "cell_type": "code",
   "execution_count": 36,
   "metadata": {},
   "outputs": [
    {
     "data": {
      "text/plain": [
       "Stock(conId=76792991, symbol='TSLA', exchange='SMART', primaryExchange='NASDAQ', currency='USD', localSymbol='TSLA', tradingClass='NMS')"
      ]
     },
     "execution_count": 36,
     "metadata": {},
     "output_type": "execute_result"
    }
   ],
   "source": [
    "goog=Stock(symbol='TSLA',exchange='SMART',currency='USD')\n",
    "ib.qualifyContracts(goog)[0]"
   ]
  },
  {
   "cell_type": "code",
   "execution_count": 37,
   "metadata": {},
   "outputs": [
    {
     "data": {
      "text/plain": [
       "Contract(secType='STK', conId=4391, symbol='AMD', exchange='SMART', primaryExchange='NASDAQ', currency='USD', localSymbol='AMD', tradingClass='NMS')"
      ]
     },
     "execution_count": 37,
     "metadata": {},
     "output_type": "execute_result"
    }
   ],
   "source": [
    "ib.qualifyContracts(Contract(symbol='AMD',currency='USD',exchange='SMART',secType='STK'))[0]"
   ]
  },
  {
   "cell_type": "markdown",
   "metadata": {},
   "source": [
    "# forex"
   ]
  },
  {
   "cell_type": "code",
   "execution_count": null,
   "metadata": {},
   "outputs": [
    {
     "data": {
      "text/plain": [
       "Forex('EURUSD', conId=12087792, exchange='IDEALPRO', localSymbol='EUR.USD', tradingClass='EUR.USD')"
      ]
     },
     "execution_count": 40,
     "metadata": {},
     "output_type": "execute_result"
    }
   ],
   "source": [
    "eur_usd=Forex('EURUSD')\n",
    "ib.qualifyContracts(eur_usd)[0]"
   ]
  },
  {
   "cell_type": "code",
   "execution_count": 43,
   "metadata": {},
   "outputs": [
    {
     "data": {
      "text/plain": [
       "Contract(secType='CASH', conId=12087792, symbol='EUR', exchange='IDEALPRO', currency='USD', localSymbol='EUR.USD', tradingClass='EUR.USD')"
      ]
     },
     "execution_count": 43,
     "metadata": {},
     "output_type": "execute_result"
    }
   ],
   "source": [
    "ib.qualifyContracts(Contract(symbol='EUR',exchange='IDEALPRO',currency='USD',secType='CASH'))[0]"
   ]
  },
  {
   "cell_type": "markdown",
   "metadata": {},
   "source": [
    "# crypto"
   ]
  },
  {
   "cell_type": "code",
   "execution_count": 46,
   "metadata": {},
   "outputs": [
    {
     "data": {
      "text/plain": [
       "[Crypto(conId=495759171, symbol='ETH', exchange='PAXOS', currency='USD', localSymbol='ETH.USD', tradingClass='ETH')]"
      ]
     },
     "execution_count": 46,
     "metadata": {},
     "output_type": "execute_result"
    }
   ],
   "source": [
    "ib.qualifyContracts(Crypto('ETH',currency='USD',exchange='PAXOS'))"
   ]
  },
  {
   "cell_type": "code",
   "execution_count": 47,
   "metadata": {},
   "outputs": [
    {
     "data": {
      "text/plain": [
       "Contract(secType='CRYPTO', conId=495759171, symbol='ETH', exchange='PAXOS', currency='USD', localSymbol='ETH.USD', tradingClass='ETH')"
      ]
     },
     "execution_count": 47,
     "metadata": {},
     "output_type": "execute_result"
    }
   ],
   "source": [
    "ib.qualifyContracts(Contract(symbol='ETH',exchange='PAXOS',currency='USD',secType='CRYPTO'))[0]"
   ]
  },
  {
   "cell_type": "markdown",
   "metadata": {},
   "source": [
    "# Option"
   ]
  },
  {
   "cell_type": "code",
   "execution_count": 48,
   "metadata": {},
   "outputs": [
    {
     "data": {
      "text/plain": [
       "[Option(conId=740692682, symbol='SPY', lastTradeDateOrContractMonth='20250221', strike=610.0, right='C', multiplier='100', exchange='SMART', currency='USD', localSymbol='SPY   250221C00610000', tradingClass='SPY')]"
      ]
     },
     "execution_count": 48,
     "metadata": {},
     "output_type": "execute_result"
    }
   ],
   "source": [
    "ib.qualifyContracts(Option(symbol='SPY',currency='USD',exchange='SMART',lastTradeDateOrContractMonth='20250221',right='C',strike=610))"
   ]
  },
  {
   "cell_type": "code",
   "execution_count": 51,
   "metadata": {},
   "outputs": [
    {
     "data": {
      "text/plain": [
       "[Option(conId=745197955, symbol='BANKNIFTY', lastTradeDateOrContractMonth='20250227', strike=49200.0, right='C', multiplier='1', exchange='NSE', currency='INR', localSymbol='BANKNIFTY25FEB49200CE', tradingClass='BANKNIFTY')]"
      ]
     },
     "execution_count": 51,
     "metadata": {},
     "output_type": "execute_result"
    }
   ],
   "source": [
    "ib.qualifyContracts(Option(symbol='BANKNIFTY',currency='INR',exchange='NSE',lastTradeDateOrContractMonth='20250227',right='C',strike=49200))"
   ]
  },
  {
   "cell_type": "code",
   "execution_count": 50,
   "metadata": {},
   "outputs": [
    {
     "data": {
      "text/plain": [
       "Contract(secType='OPT', conId=747884985, symbol='SPY', lastTradeDateOrContractMonth='20250221', strike=611.0, right='C', multiplier='100', exchange='SMART', currency='USD', localSymbol='SPY   250221C00611000', tradingClass='SPY')"
      ]
     },
     "execution_count": 50,
     "metadata": {},
     "output_type": "execute_result"
    }
   ],
   "source": [
    "ib.qualifyContracts(Contract(symbol='SPY',currency='USD',exchange='SMART',lastTradeDateOrContractMonth='20250221',right='C',strike=611,secType='OPT'))[0]"
   ]
  },
  {
   "cell_type": "markdown",
   "metadata": {},
   "source": [
    "# Future"
   ]
  },
  {
   "cell_type": "code",
   "execution_count": 53,
   "metadata": {},
   "outputs": [
    {
     "data": {
      "text/plain": [
       "[Future(conId=603558932, symbol='ES', lastTradeDateOrContractMonth='20250321', multiplier='50', exchange='CME', currency='USD', localSymbol='ESH5', tradingClass='ES')]"
      ]
     },
     "execution_count": 53,
     "metadata": {},
     "output_type": "execute_result"
    }
   ],
   "source": [
    "ib.qualifyContracts(Future(symbol='ES',currency='USD',exchange='CME',lastTradeDateOrContractMonth='20250321'))"
   ]
  },
  {
   "cell_type": "code",
   "execution_count": 55,
   "metadata": {},
   "outputs": [
    {
     "data": {
      "text/plain": [
       "Contract(secType='FUT', conId=603558932, symbol='ES', lastTradeDateOrContractMonth='20250321', multiplier='50', exchange='CME', currency='USD', localSymbol='ESH5', tradingClass='ES')"
      ]
     },
     "execution_count": 55,
     "metadata": {},
     "output_type": "execute_result"
    }
   ],
   "source": [
    "ib.qualifyContracts(Contract(symbol='ES',currency='USD',exchange='CME',lastTradeDateOrContractMonth='20250321',secType='FUT'))[0]"
   ]
  },
  {
   "cell_type": "code",
   "execution_count": 54,
   "metadata": {},
   "outputs": [
    {
     "data": {
      "text/plain": [
       "[Future(conId=745199704, symbol='BANKNIFTY', lastTradeDateOrContractMonth='20250227', multiplier='1', exchange='NSE', currency='INR', localSymbol='BANKNIFTY25FEBFUT', tradingClass='BANKNIFTY')]"
      ]
     },
     "execution_count": 54,
     "metadata": {},
     "output_type": "execute_result"
    }
   ],
   "source": [
    "ib.qualifyContracts(Future(symbol='BANKNIFTY',currency='INR',exchange='NSE',lastTradeDateOrContractMonth='20250227'))"
   ]
  }
 ],
 "metadata": {
  "kernelspec": {
   "display_name": ".venv",
   "language": "python",
   "name": "python3"
  },
  "language_info": {
   "codemirror_mode": {
    "name": "ipython",
    "version": 3
   },
   "file_extension": ".py",
   "mimetype": "text/x-python",
   "name": "python",
   "nbconvert_exporter": "python",
   "pygments_lexer": "ipython3",
   "version": "3.12.8"
  }
 },
 "nbformat": 4,
 "nbformat_minor": 2
}
