{
 "cells": [
  {
   "cell_type": "markdown",
   "id": "9b85c72b",
   "metadata": {},
   "source": [
    "# latest quote/price"
   ]
  },
  {
   "cell_type": "code",
   "execution_count": null,
   "id": "9e151395",
   "metadata": {},
   "outputs": [
    {
     "data": {
      "text/plain": [
       "<IB connected to 127.0.0.1:7497 clientId=91>"
      ]
     },
     "execution_count": 1,
     "metadata": {},
     "output_type": "execute_result"
    },
    {
     "name": "stderr",
     "output_type": "stream",
     "text": [
      "Error 420, reqId 3: Invalid Real-time Query:No historical market data for USD/CASH@FXSUBPIP Last 0, contract: Forex('USDJPY', exchange='IDEALPRO')\n",
      "Error 300, reqId 3: Can't find EId with tickerId:3\n",
      "Error 1100, reqId -1: Connectivity between IBKR and Trader Workstation has been lost.\n",
      "Error 1102, reqId -1: Connectivity between IBKR and Trader Workstation has been restored - data maintained. All data farms are connected: uscrypto; hfarm; usfarm.nj; usfuture; cashfarm; usfarm; cashhmds; ushmds; secdefnj.\n",
      "Error 1100, reqId -1: Connectivity between IBKR and Trader Workstation has been lost.\n",
      "Error 1100, reqId -1: Connectivity between IBKR and Trader Workstation has been lost.\n",
      "Error 1100, reqId -1: Connectivity between IBKR and Trader Workstation has been lost.\n",
      "Peer closed connection.\n"
     ]
    }
   ],
   "source": [
    "from ib_async import *\n",
    "util.startLoop()  # uncomment this line when in a notebook\n",
    "\n",
    "ib = IB()\n",
    "ib.connect('127.0.0.1', 7497, clientId=91)"
   ]
  },
  {
   "cell_type": "code",
   "execution_count": null,
   "id": "7892d734",
   "metadata": {},
   "outputs": [],
   "source": [
    "cont1=Forex('EURUSD')\n",
    "cont1=Crypto('BTC','PAXOS','USD')\n",
    "cont1=Stock('META',\"SMART\",\"USD\")\n",
    "cont1=ib.qualifyContracts(cont1)[0]\n",
    "cont1"
   ]
  },
  {
   "cell_type": "code",
   "execution_count": null,
   "id": "dc0b6bda",
   "metadata": {},
   "outputs": [],
   "source": [
    "t=ib.reqTickers(cont1)\n",
    "ib.sleep(2)\n",
    "t=t[0]\n",
    "t"
   ]
  },
  {
   "cell_type": "code",
   "execution_count": null,
   "id": "b0f78abc",
   "metadata": {},
   "outputs": [],
   "source": [
    "t.bid,t.ask"
   ]
  },
  {
   "cell_type": "markdown",
   "id": "ec6d6421",
   "metadata": {},
   "source": [
    "# get data every sec using api call"
   ]
  },
  {
   "cell_type": "code",
   "execution_count": null,
   "id": "02998bda",
   "metadata": {},
   "outputs": [],
   "source": [
    "\n",
    "contract1=Crypto('BTC','PAXOS','USD')\n",
    "import time\n",
    "while True:\n",
    "    data=ib.reqTickers(contract1)\n",
    "    print(data[0].time,data[0].bid,data[0].ask)\n",
    "    time.sleep(1)"
   ]
  },
  {
   "cell_type": "markdown",
   "id": "711592b2",
   "metadata": {},
   "source": [
    "# bar socket"
   ]
  },
  {
   "cell_type": "code",
   "execution_count": 2,
   "id": "35abd8f3",
   "metadata": {},
   "outputs": [],
   "source": [
    "\n",
    "def onBarUpdate(bars, hasNewBar):\n",
    "    print(bars)\n",
    "\n",
    "\n",
    "contract2=Forex('USDJPY')\n",
    "bars = ib.reqRealTimeBars(contract2, 5, 'TRADES', False)\n",
    "bars.updateEvent += onBarUpdate\n",
    "\n",
    "ib.sleep(30)\n",
    "bars.updateEvent -= onBarUpdate\n",
    "ib.cancelRealTimeBars(bars)\n"
   ]
  }
 ],
 "metadata": {
  "kernelspec": {
   "display_name": ".venv",
   "language": "python",
   "name": "python3"
  },
  "language_info": {
   "codemirror_mode": {
    "name": "ipython",
    "version": 3
   },
   "file_extension": ".py",
   "mimetype": "text/x-python",
   "name": "python",
   "nbconvert_exporter": "python",
   "pygments_lexer": "ipython3",
   "version": "3.12.8"
  }
 },
 "nbformat": 4,
 "nbformat_minor": 5
}
