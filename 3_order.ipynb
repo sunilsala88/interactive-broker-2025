{
 "cells": [
  {
   "cell_type": "code",
   "execution_count": null,
   "metadata": {},
   "outputs": [
    {
     "data": {
      "text/plain": [
       "<IB connected to 127.0.0.1:7497 clientId=89>"
      ]
     },
     "execution_count": 1,
     "metadata": {},
     "output_type": "execute_result"
    },
    {
     "name": "stderr",
     "output_type": "stream",
     "text": [
      "Error 103, reqId 19: Duplicate order id\n",
      "Error 103, reqId 19: Duplicate order id\n",
      "Peer closed connection.\n"
     ]
    }
   ],
   "source": [
    "from ib_async import *\n",
    "util.startLoop()  # uncomment this line when in a notebook\n",
    "\n",
    "ib = IB()\n",
    "client_id=89\n",
    "ib.connect('127.0.0.1', 7497, clientId=client_id)"
   ]
  },
  {
   "cell_type": "code",
   "execution_count": 4,
   "metadata": {},
   "outputs": [],
   "source": [
    "symbol = 'NVDA'\n",
    "exchange='SMART'\n",
    "currency='USD'\n",
    "account_no='DUH316001'"
   ]
  },
  {
   "cell_type": "markdown",
   "metadata": {},
   "source": [
    "## Market order"
   ]
  },
  {
   "cell_type": "code",
   "execution_count": 17,
   "metadata": {},
   "outputs": [],
   "source": [
    "mod1=MarketOrder(action='BUY',totalQuantity=1,account=account_no)\n",
    "\n",
    "cont1=Stock(symbol,exchange,currency)"
   ]
  },
  {
   "cell_type": "code",
   "execution_count": 10,
   "metadata": {},
   "outputs": [
    {
     "data": {
      "text/plain": [
       "8"
      ]
     },
     "execution_count": 10,
     "metadata": {},
     "output_type": "execute_result"
    }
   ],
   "source": [
    "ib.client.getReqId()"
   ]
  },
  {
   "cell_type": "code",
   "execution_count": 7,
   "metadata": {},
   "outputs": [],
   "source": [
    "mod2=Order(orderId=ib.client.getReqId(),orderType='MKT',totalQuantity=1,action='SELL',account=account_no,clientId=client_id)"
   ]
  },
  {
   "cell_type": "code",
   "execution_count": 18,
   "metadata": {},
   "outputs": [
    {
     "ename": "AssertionError",
     "evalue": "",
     "output_type": "error",
     "traceback": [
      "\u001b[0;31m---------------------------------------------------------------------------\u001b[0m",
      "\u001b[0;31mAssertionError\u001b[0m                            Traceback (most recent call last)",
      "Cell \u001b[0;32mIn[18], line 1\u001b[0m\n\u001b[0;32m----> 1\u001b[0m pd1\u001b[38;5;241m=\u001b[39m\u001b[43mib\u001b[49m\u001b[38;5;241;43m.\u001b[39;49m\u001b[43mplaceOrder\u001b[49m\u001b[43m(\u001b[49m\u001b[43mcont1\u001b[49m\u001b[43m,\u001b[49m\u001b[43mmod2\u001b[49m\u001b[43m)\u001b[49m\n\u001b[1;32m      2\u001b[0m \u001b[38;5;28mprint\u001b[39m(pd1)\n",
      "File \u001b[0;32m/Users/algo trading 2025/interactive broker 2025/.venv/lib/python3.12/site-packages/ib_async/ib.py:787\u001b[0m, in \u001b[0;36mIB.placeOrder\u001b[0;34m(self, contract, order)\u001b[0m\n\u001b[1;32m    784\u001b[0m trade \u001b[38;5;241m=\u001b[39m \u001b[38;5;28mself\u001b[39m\u001b[38;5;241m.\u001b[39mwrapper\u001b[38;5;241m.\u001b[39mtrades\u001b[38;5;241m.\u001b[39mget(key)\n\u001b[1;32m    785\u001b[0m \u001b[38;5;28;01mif\u001b[39;00m trade:\n\u001b[1;32m    786\u001b[0m     \u001b[38;5;66;03m# this is a modification of an existing order\u001b[39;00m\n\u001b[0;32m--> 787\u001b[0m     \u001b[38;5;28;01massert\u001b[39;00m trade\u001b[38;5;241m.\u001b[39morderStatus\u001b[38;5;241m.\u001b[39mstatus \u001b[38;5;129;01mnot\u001b[39;00m \u001b[38;5;129;01min\u001b[39;00m OrderStatus\u001b[38;5;241m.\u001b[39mDoneStates\n\u001b[1;32m    788\u001b[0m     logEntry \u001b[38;5;241m=\u001b[39m TradeLogEntry(now, trade\u001b[38;5;241m.\u001b[39morderStatus\u001b[38;5;241m.\u001b[39mstatus, \u001b[38;5;124m\"\u001b[39m\u001b[38;5;124mModify\u001b[39m\u001b[38;5;124m\"\u001b[39m)\n\u001b[1;32m    789\u001b[0m     trade\u001b[38;5;241m.\u001b[39mlog\u001b[38;5;241m.\u001b[39mappend(logEntry)\n",
      "\u001b[0;31mAssertionError\u001b[0m: "
     ]
    }
   ],
   "source": [
    "pd1=ib.placeOrder(cont1,mod2)\n",
    "print(pd1)"
   ]
  },
  {
   "cell_type": "markdown",
   "metadata": {},
   "source": [
    "# limit order"
   ]
  },
  {
   "cell_type": "code",
   "execution_count": 12,
   "metadata": {},
   "outputs": [],
   "source": [
    "lo1=LimitOrder(action='BUY',totalQuantity=1,lmtPrice=105)\n",
    "co1=Stock(symbol,exchange,currency)"
   ]
  },
  {
   "cell_type": "code",
   "execution_count": 21,
   "metadata": {},
   "outputs": [],
   "source": [
    "lo2=Order(orderId=ib.client.getReqId(),orderType='LMT',totalQuantity=1,action='BUY',lmtPrice=200,account=account_no,clientId=client_id)"
   ]
  },
  {
   "cell_type": "code",
   "execution_count": 13,
   "metadata": {},
   "outputs": [
    {
     "data": {
      "text/plain": [
       "Trade(contract=Stock(symbol='NVDA', exchange='SMART', currency='USD'), order=LimitOrder(orderId=21, clientId=89, action='BUY', totalQuantity=1, lmtPrice=105), orderStatus=OrderStatus(orderId=21, status='PendingSubmit', filled=0.0, remaining=0.0, avgFillPrice=0.0, permId=0, parentId=0, lastFillPrice=0.0, clientId=0, whyHeld='', mktCapPrice=0.0), fills=[], log=[TradeLogEntry(time=datetime.datetime(2025, 3, 27, 12, 45, 36, 779553, tzinfo=datetime.timezone.utc), status='PendingSubmit', message='', errorCode=0)], advancedError='')"
      ]
     },
     "execution_count": 13,
     "metadata": {},
     "output_type": "execute_result"
    }
   ],
   "source": [
    "ib.placeOrder(co1,lo1)"
   ]
  },
  {
   "cell_type": "markdown",
   "metadata": {},
   "source": [
    "# Stop Order"
   ]
  },
  {
   "cell_type": "code",
   "execution_count": 19,
   "metadata": {},
   "outputs": [],
   "source": [
    "symbol = 'META'\n",
    "exchange='SMART'\n",
    "currency='USD'\n",
    "account_no='DUH316001'"
   ]
  },
  {
   "cell_type": "code",
   "execution_count": 20,
   "metadata": {},
   "outputs": [
    {
     "data": {
      "text/plain": [
       "Trade(contract=Stock(symbol='META', exchange='SMART', currency='USD'), order=MarketOrder(orderId=22, clientId=89, action='BUY', totalQuantity=1), orderStatus=OrderStatus(orderId=22, status='PendingSubmit', filled=0.0, remaining=0.0, avgFillPrice=0.0, permId=0, parentId=0, lastFillPrice=0.0, clientId=0, whyHeld='', mktCapPrice=0.0), fills=[], log=[TradeLogEntry(time=datetime.datetime(2025, 3, 27, 12, 52, 24, 347278, tzinfo=datetime.timezone.utc), status='PendingSubmit', message='', errorCode=0)], advancedError='')"
      ]
     },
     "execution_count": 20,
     "metadata": {},
     "output_type": "execute_result"
    }
   ],
   "source": [
    "ib.placeOrder(Stock(symbol,exchange,currency),MarketOrder(action='BUY',totalQuantity=1))"
   ]
  },
  {
   "cell_type": "code",
   "execution_count": 27,
   "metadata": {},
   "outputs": [],
   "source": [
    "st1=StopOrder('BUY',1,607)\n",
    "ct1=Stock(symbol,exchange,currency)"
   ]
  },
  {
   "cell_type": "code",
   "execution_count": 28,
   "metadata": {},
   "outputs": [
    {
     "data": {
      "text/plain": [
       "Trade(contract=Stock(symbol='META', exchange='SMART', currency='USD'), order=StopOrder(orderId=26, clientId=89, action='BUY', totalQuantity=1, auxPrice=607), orderStatus=OrderStatus(orderId=26, status='PendingSubmit', filled=0.0, remaining=0.0, avgFillPrice=0.0, permId=0, parentId=0, lastFillPrice=0.0, clientId=0, whyHeld='', mktCapPrice=0.0), fills=[], log=[TradeLogEntry(time=datetime.datetime(2025, 3, 27, 12, 59, 33, 541374, tzinfo=datetime.timezone.utc), status='PendingSubmit', message='', errorCode=0)], advancedError='')"
      ]
     },
     "execution_count": 28,
     "metadata": {},
     "output_type": "execute_result"
    }
   ],
   "source": [
    "ib.placeOrder(ct1,st1)"
   ]
  },
  {
   "cell_type": "markdown",
   "metadata": {},
   "source": [
    "# stop limit order"
   ]
  },
  {
   "cell_type": "code",
   "execution_count": 29,
   "metadata": {},
   "outputs": [
    {
     "data": {
      "text/plain": [
       "Trade(contract=Stock(symbol='META', exchange='SMART', currency='USD'), order=StopLimitOrder(orderId=27, clientId=89, action='BUY', totalQuantity=1, lmtPrice=607, auxPrice=608), orderStatus=OrderStatus(orderId=27, status='PendingSubmit', filled=0.0, remaining=0.0, avgFillPrice=0.0, permId=0, parentId=0, lastFillPrice=0.0, clientId=0, whyHeld='', mktCapPrice=0.0), fills=[], log=[TradeLogEntry(time=datetime.datetime(2025, 3, 27, 13, 5, 38, 814023, tzinfo=datetime.timezone.utc), status='PendingSubmit', message='', errorCode=0)], advancedError='')"
      ]
     },
     "execution_count": 29,
     "metadata": {},
     "output_type": "execute_result"
    }
   ],
   "source": [
    "sl1=StopLimitOrder('BUY',1,607,608)\n",
    "cl1=Stock(symbol,exchange,currency)\n",
    "ib.placeOrder(cl1,sl1)"
   ]
  },
  {
   "cell_type": "markdown",
   "metadata": {},
   "source": [
    "# cover order"
   ]
  },
  {
   "cell_type": "code",
   "execution_count": 32,
   "metadata": {},
   "outputs": [],
   "source": [
    "symbol = 'AAPL'\n",
    "exchange='SMART'\n",
    "currency='USD'\n",
    "account_no='DUH316001'"
   ]
  },
  {
   "cell_type": "code",
   "execution_count": 33,
   "metadata": {},
   "outputs": [
    {
     "name": "stdout",
     "output_type": "stream",
     "text": [
      "Stock(conId=265598, symbol='AAPL', exchange='SMART', primaryExchange='NASDAQ', currency='USD', localSymbol='AAPL', tradingClass='NMS')\n",
      "Trade(contract=Stock(conId=265598, symbol='AAPL', exchange='SMART', primaryExchange='NASDAQ', currency='USD', localSymbol='AAPL', tradingClass='NMS'), order=Order(orderId=35, clientId=89, action='BUY', totalQuantity=1, orderType='LMT', lmtPrice=221, transmit=False), orderStatus=OrderStatus(orderId=35, status='PendingSubmit', filled=0.0, remaining=0.0, avgFillPrice=0.0, permId=0, parentId=0, lastFillPrice=0.0, clientId=0, whyHeld='', mktCapPrice=0.0), fills=[], log=[TradeLogEntry(time=datetime.datetime(2025, 3, 27, 13, 15, 34, 783590, tzinfo=datetime.timezone.utc), status='PendingSubmit', message='', errorCode=0)], advancedError='')\n",
      "Trade(contract=Stock(conId=265598, symbol='AAPL', exchange='SMART', primaryExchange='NASDAQ', currency='USD', localSymbol='AAPL', tradingClass='NMS'), order=Order(orderId=36, clientId=89, action='SELL', totalQuantity=1, orderType='STP', auxPrice=216, parentId=35), orderStatus=OrderStatus(orderId=36, status='PendingSubmit', filled=0.0, remaining=0.0, avgFillPrice=0.0, permId=0, parentId=0, lastFillPrice=0.0, clientId=0, whyHeld='', mktCapPrice=0.0), fills=[], log=[TradeLogEntry(time=datetime.datetime(2025, 3, 27, 13, 15, 34, 784604, tzinfo=datetime.timezone.utc), status='PendingSubmit', message='', errorCode=0)], advancedError='')\n"
     ]
    }
   ],
   "source": [
    "current_price=221\n",
    "c=ib.qualifyContracts(Stock(symbol,exchange,currency))[0]\n",
    "print(c)\n",
    "parent = Order(orderId=ib.client.getReqId(),action='BUY',orderType='LMT',totalQuantity=1,transmit = False,lmtPrice=current_price)\n",
    "\n",
    "\n",
    "stopLoss = Order()\n",
    "stopLoss.orderId = ib.client.getReqId()\n",
    "stopLoss.action = \"SELL\" if parent.action == \"BUY\" else \"BUY\"\n",
    "stopLoss.orderType = \"STP\"\n",
    "stopLoss.auxPrice = current_price-5\n",
    "stopLoss.totalQuantity = parent.totalQuantity\n",
    "stopLoss.parentId = parent.orderId\n",
    "stopLoss.transmit = True\n",
    "\n",
    "ords=[parent, stopLoss]\n",
    "\n",
    "for o in ords:\n",
    "    trade=ib.placeOrder(c, o)\n",
    "    print(trade)"
   ]
  },
  {
   "cell_type": "markdown",
   "metadata": {},
   "source": [
    "# bracket order"
   ]
  },
  {
   "cell_type": "code",
   "execution_count": 34,
   "metadata": {},
   "outputs": [
    {
     "name": "stdout",
     "output_type": "stream",
     "text": [
      "Stock(conId=265598, symbol='AAPL', exchange='SMART', primaryExchange='NASDAQ', currency='USD', localSymbol='AAPL', tradingClass='NMS')\n",
      "Trade(contract=Stock(conId=265598, symbol='AAPL', exchange='SMART', primaryExchange='NASDAQ', currency='USD', localSymbol='AAPL', tradingClass='NMS'), order=Order(orderId=38, clientId=89, action='BUY', totalQuantity=1, orderType='LMT', lmtPrice=221, transmit=False), orderStatus=OrderStatus(orderId=38, status='PendingSubmit', filled=0.0, remaining=0.0, avgFillPrice=0.0, permId=0, parentId=0, lastFillPrice=0.0, clientId=0, whyHeld='', mktCapPrice=0.0), fills=[], log=[TradeLogEntry(time=datetime.datetime(2025, 3, 27, 13, 20, 59, 710126, tzinfo=datetime.timezone.utc), status='PendingSubmit', message='', errorCode=0)], advancedError='')\n",
      "Trade(contract=Stock(conId=265598, symbol='AAPL', exchange='SMART', primaryExchange='NASDAQ', currency='USD', localSymbol='AAPL', tradingClass='NMS'), order=Order(orderId=39, clientId=89, action='SELL', totalQuantity=1, orderType='LMT', lmtPrice=226, transmit=False, parentId=38), orderStatus=OrderStatus(orderId=39, status='PendingSubmit', filled=0.0, remaining=0.0, avgFillPrice=0.0, permId=0, parentId=0, lastFillPrice=0.0, clientId=0, whyHeld='', mktCapPrice=0.0), fills=[], log=[TradeLogEntry(time=datetime.datetime(2025, 3, 27, 13, 20, 59, 711533, tzinfo=datetime.timezone.utc), status='PendingSubmit', message='', errorCode=0)], advancedError='')\n",
      "Trade(contract=Stock(conId=265598, symbol='AAPL', exchange='SMART', primaryExchange='NASDAQ', currency='USD', localSymbol='AAPL', tradingClass='NMS'), order=Order(orderId=40, clientId=89, action='SELL', totalQuantity=1, orderType='STP', auxPrice=216, parentId=38), orderStatus=OrderStatus(orderId=40, status='PendingSubmit', filled=0.0, remaining=0.0, avgFillPrice=0.0, permId=0, parentId=0, lastFillPrice=0.0, clientId=0, whyHeld='', mktCapPrice=0.0), fills=[], log=[TradeLogEntry(time=datetime.datetime(2025, 3, 27, 13, 20, 59, 712450, tzinfo=datetime.timezone.utc), status='PendingSubmit', message='', errorCode=0)], advancedError='')\n"
     ]
    }
   ],
   "source": [
    "current_price=221\n",
    "c=ib.qualifyContracts(Stock(symbol,exchange,currency))[0]\n",
    "print(c)\n",
    "\n",
    "\n",
    "parent = Order(\n",
    "    orderId=ib.client.getReqId(),\n",
    "    action='BUY',\n",
    "    orderType='LMT',\n",
    "    totalQuantity=1,\n",
    "    lmtPrice=current_price,\n",
    "    transmit = False)\n",
    "\n",
    "\n",
    "takeProfit = Order()        \n",
    "takeProfit.orderId = ib.client.getReqId()\n",
    "takeProfit.action = \"SELL\" if parent.action == \"BUY\" else \"BUY\"\n",
    "takeProfit.orderType = \"LMT\"\n",
    "takeProfit.totalQuantity = parent.totalQuantity\n",
    "takeProfit.lmtPrice = current_price+5 if parent.action == \"BUY\" else current_price-5\n",
    "takeProfit.parentId = parent.orderId\n",
    "takeProfit.transmit = False\n",
    "\n",
    "\n",
    "stopLoss = Order()\n",
    "stopLoss.orderId = ib.client.getReqId()\n",
    "stopLoss.action = \"SELL\" if parent.action == \"BUY\" else \"BUY\"\n",
    "stopLoss.orderType = \"STP\"\n",
    "stopLoss.auxPrice = current_price-5 if parent.action == \"BUY\" else current_price+5\n",
    "stopLoss.totalQuantity = parent.totalQuantity\n",
    "stopLoss.parentId = parent.orderId\n",
    "stopLoss.transmit = True\n",
    "\n",
    "ords=[parent, takeProfit, stopLoss]\n",
    "\n",
    "for o in ords:\n",
    "    trade=ib.placeOrder(c, o)\n",
    "    print(trade)\n"
   ]
  },
  {
   "cell_type": "markdown",
   "metadata": {},
   "source": [
    "# trailing order"
   ]
  },
  {
   "cell_type": "code",
   "execution_count": 37,
   "metadata": {},
   "outputs": [
    {
     "name": "stdout",
     "output_type": "stream",
     "text": [
      "Stock(conId=4815747, symbol='NVDA', exchange='SMART', primaryExchange='NASDAQ', currency='USD', localSymbol='NVDA', tradingClass='NMS')\n",
      "Trade(contract=Stock(conId=4815747, symbol='NVDA', exchange='SMART', primaryExchange='NASDAQ', currency='USD', localSymbol='NVDA', tradingClass='NMS'), order=Order(orderId=46, clientId=89, action='SELL', totalQuantity=1, orderType='TRAIL', auxPrice=108.78, trailStopPrice=108), orderStatus=OrderStatus(orderId=46, status='PendingSubmit', filled=0.0, remaining=0.0, avgFillPrice=0.0, permId=0, parentId=0, lastFillPrice=0.0, clientId=0, whyHeld='', mktCapPrice=0.0), fills=[], log=[TradeLogEntry(time=datetime.datetime(2025, 3, 27, 13, 29, 31, 380483, tzinfo=datetime.timezone.utc), status='PendingSubmit', message='', errorCode=0)], advancedError='')\n"
     ]
    }
   ],
   "source": [
    "current_price=111\n",
    "c=ib.qualifyContracts(Stock(\"NVDA\",exchange,currency))[0]\n",
    "print(c)\n",
    "\n",
    "\n",
    "order = Order()\n",
    "order.orderId = ib.client.getReqId()\n",
    "order.action = 'SELL'\n",
    "order.orderType = \"TRAIL\"\n",
    "order.totalQuantity = 1\n",
    "order.auxPrice = current_price*0.98\n",
    "order.trailStopPrice = int(current_price*0.98)\n",
    "\n",
    "trade=ib.placeOrder(c, order)\n",
    "print(trade)"
   ]
  }
 ],
 "metadata": {
  "kernelspec": {
   "display_name": ".venv",
   "language": "python",
   "name": "python3"
  },
  "language_info": {
   "codemirror_mode": {
    "name": "ipython",
    "version": 3
   },
   "file_extension": ".py",
   "mimetype": "text/x-python",
   "name": "python",
   "nbconvert_exporter": "python",
   "pygments_lexer": "ipython3",
   "version": "3.12.8"
  }
 },
 "nbformat": 4,
 "nbformat_minor": 2
}
